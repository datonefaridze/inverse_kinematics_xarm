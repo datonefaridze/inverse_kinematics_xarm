{
 "cells": [
  {
   "cell_type": "code",
   "execution_count": 1,
   "id": "6f71e8fc",
   "metadata": {},
   "outputs": [
    {
     "data": {
      "text/plain": [
       "14"
      ]
     },
     "execution_count": 1,
     "metadata": {},
     "output_type": "execute_result"
    }
   ],
   "source": [
    "import os \n",
    "import numpy as np\n",
    "import cv2\n",
    "\n",
    "\n",
    "def show(img):\n",
    "    cv2.imshow('img image',img)\n",
    "    cv2.waitKey(0)\n",
    "    cv2.destroyAllWindows()\n",
    "data_dir = 'saved_data'\n",
    "idx = len(list(os.listdir(data_dir)))//2\n",
    "idx"
   ]
  },
  {
   "cell_type": "code",
   "execution_count": 2,
   "id": "39fcbe7d",
   "metadata": {},
   "outputs": [
    {
     "name": "stdout",
     "output_type": "stream",
     "text": [
      "loaded_action:  [ 0.19608612 -0.00391388  0.19608612]\n",
      "loaded_action:  [ 0.34481401 -0.01956952  0.19608612]\n",
      "loaded_action:  [ 0.34481401 -0.01956952 -0.21095889]\n",
      "loaded_action:  [ 0.34481401 -0.01956952 -0.21095889]\n",
      "loaded_action:  [ 0.34481401 -0.01956952 -0.21095889]\n",
      "loaded_action:  [ 0.35264177 -0.05870843 -0.3596869 ]\n",
      "loaded_action:  [ 0.22739716 -0.02739727  0.25088067]\n",
      "loaded_action:  [0.83796473 0.10567522 0.56399221]\n",
      "loaded_action:  [0.88493152 0.63796473 1.2998044 ]\n",
      "loaded_action:  [ 0.88493152 -0.38747549  1.35459871]\n",
      "loaded_action:  [ 0.88493152 -0.38747549  1.37025447]\n",
      "loaded_action:  [-0.81369858 -0.27005875  0.25088067]\n",
      "loaded_action:  [ 0.05518587 -0.07436395  0.15694721]\n",
      "loaded_action:  [ 0.37612529 -0.11350298  0.05518587]\n"
     ]
    }
   ],
   "source": [
    "for i in range(1, idx+1):\n",
    "    frame_path = os.path.join(data_dir, f'frame_{i}.npy')\n",
    "    action_path = os.path.join(data_dir, f'desired_pos_{i}.npy')\n",
    "    \n",
    "    loaded_frame = np.load(frame_path)\n",
    "    loaded_action = np.load(action_path)\n",
    "    print(\"loaded_action: \", loaded_action)\n",
    "    show(loaded_frame)\n",
    "  "
   ]
  },
  {
   "cell_type": "code",
   "execution_count": 3,
   "id": "9ed79cae",
   "metadata": {},
   "outputs": [
    {
     "data": {
      "text/plain": [
       "array([ 0.37612529, -0.11350298,  0.05518587])"
      ]
     },
     "execution_count": 3,
     "metadata": {},
     "output_type": "execute_result"
    }
   ],
   "source": [
    "loaded_action"
   ]
  },
  {
   "cell_type": "code",
   "execution_count": 6,
   "id": "ec05859d",
   "metadata": {
    "scrolled": true
   },
   "outputs": [
    {
     "ename": "NameError",
     "evalue": "name 'saved_data' is not defined",
     "output_type": "error",
     "traceback": [
      "\u001b[0;31m---------------------------------------------------------------------------\u001b[0m",
      "\u001b[0;31mNameError\u001b[0m                                 Traceback (most recent call last)",
      "Cell \u001b[0;32mIn[6], line 1\u001b[0m\n\u001b[0;32m----> 1\u001b[0m \u001b[43msaved_data\u001b[49m\u001b[38;5;241m/\u001b[39mframe_4\u001b[38;5;241m.\u001b[39mnpy\n",
      "\u001b[0;31mNameError\u001b[0m: name 'saved_data' is not defined"
     ]
    }
   ],
   "source": [
    "saved_data/frame_4.npy\n",
    "saved_data/frame_0.npy"
   ]
  },
  {
   "cell_type": "code",
   "execution_count": null,
   "id": "5476fab7",
   "metadata": {},
   "outputs": [],
   "source": []
  },
  {
   "cell_type": "code",
   "execution_count": null,
   "id": "26e79e39",
   "metadata": {},
   "outputs": [],
   "source": []
  },
  {
   "cell_type": "code",
   "execution_count": null,
   "id": "3b5334e5",
   "metadata": {},
   "outputs": [],
   "source": []
  },
  {
   "cell_type": "code",
   "execution_count": null,
   "id": "3f76dc0d",
   "metadata": {},
   "outputs": [],
   "source": []
  },
  {
   "cell_type": "code",
   "execution_count": null,
   "id": "3dae159d",
   "metadata": {},
   "outputs": [],
   "source": []
  }
 ],
 "metadata": {
  "kernelspec": {
   "display_name": "tacorl_venv",
   "language": "python",
   "name": "tacorl_venv"
  },
  "language_info": {
   "codemirror_mode": {
    "name": "ipython",
    "version": 3
   },
   "file_extension": ".py",
   "mimetype": "text/x-python",
   "name": "python",
   "nbconvert_exporter": "python",
   "pygments_lexer": "ipython3",
   "version": "3.7.16"
  }
 },
 "nbformat": 4,
 "nbformat_minor": 5
}
