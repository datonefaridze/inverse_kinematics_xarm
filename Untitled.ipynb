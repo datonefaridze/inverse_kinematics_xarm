{
 "cells": [
  {
   "cell_type": "code",
   "execution_count": 41,
   "id": "6f71e8fc",
   "metadata": {},
   "outputs": [],
   "source": [
    "import os \n",
    "import numpy as np\n",
    "import cv2\n",
    "\n",
    "\n",
    "def show(img):\n",
    "    cv2.imshow('img image',img)\n",
    "    cv2.waitKey(0)\n",
    "    cv2.destroyAllWindows()\n",
    "data_dir = '/home/dato/src/my_projects/robotics/inverse_kinematics_xarm/saved_data/2023-11-19'\n"
   ]
  },
  {
   "cell_type": "code",
   "execution_count": 42,
   "id": "4f1af6ee",
   "metadata": {},
   "outputs": [
    {
     "data": {
      "text/plain": [
       "{'17003861340958133'}"
      ]
     },
     "execution_count": 42,
     "metadata": {},
     "output_type": "execute_result"
    }
   ],
   "source": [
    "filenames = set([x.replace('actions_', '').replace('frames_', '').replace('.npy', '') for x in os.listdir(data_dir)])\n",
    "\n",
    "filenames"
   ]
  },
  {
   "cell_type": "code",
   "execution_count": 43,
   "id": "1aa7d851",
   "metadata": {},
   "outputs": [],
   "source": [
    "for filename in filenames:\n",
    "    action_loaded = np.load(os.path.join(data_dir, 'actions_' + filename + '.npy'))\n",
    "    frames_loaded = np.load(os.path.join(data_dir, 'frames_' + filename + '.npy'))\n",
    "    "
   ]
  },
  {
   "cell_type": "code",
   "execution_count": 44,
   "id": "274f1ed9",
   "metadata": {},
   "outputs": [
    {
     "data": {
      "text/plain": [
       "(90, 3)"
      ]
     },
     "execution_count": 44,
     "metadata": {},
     "output_type": "execute_result"
    }
   ],
   "source": [
    "action_loaded.shape"
   ]
  },
  {
   "cell_type": "code",
   "execution_count": 45,
   "id": "db4932a1",
   "metadata": {},
   "outputs": [
    {
     "data": {
      "text/plain": [
       "(90, 480, 640, 3)"
      ]
     },
     "execution_count": 45,
     "metadata": {},
     "output_type": "execute_result"
    }
   ],
   "source": [
    "frames_loaded.shape"
   ]
  },
  {
   "cell_type": "code",
   "execution_count": 46,
   "id": "3e4211a4",
   "metadata": {},
   "outputs": [],
   "source": [
    "np.set_printoptions(precision=4, suppress=True, formatter={'float': '{:0.4f}'.format})"
   ]
  },
  {
   "cell_type": "code",
   "execution_count": 47,
   "id": "5ae53190",
   "metadata": {},
   "outputs": [],
   "source": [
    "avg_dist = []\n",
    "for i in range(1, len(action_loaded)):\n",
    "    avg_dist.append(np.abs(action_loaded[i]-action_loaded[i-1]).sum()/3)"
   ]
  },
  {
   "cell_type": "code",
   "execution_count": 48,
   "id": "4ef80376",
   "metadata": {},
   "outputs": [
    {
     "data": {
      "text/plain": [
       "0.14592757284326852"
      ]
     },
     "execution_count": 48,
     "metadata": {},
     "output_type": "execute_result"
    }
   ],
   "source": [
    "np.mean(avg_dist)\n",
    "\n",
    "#0.1849995449234355 and 0.14592757284326852 for 15hz\n",
    "# 0.3859735 for 10hz"
   ]
  },
  {
   "cell_type": "code",
   "execution_count": 50,
   "id": "569ca311",
   "metadata": {},
   "outputs": [
    {
     "data": {
      "text/plain": [
       "0.0038"
      ]
     },
     "execution_count": 50,
     "metadata": {},
     "output_type": "execute_result"
    }
   ],
   "source": [
    "0.38/100"
   ]
  },
  {
   "cell_type": "code",
   "execution_count": null,
   "id": "eefb6366",
   "metadata": {},
   "outputs": [],
   "source": []
  },
  {
   "cell_type": "code",
   "execution_count": null,
   "id": "260771b3",
   "metadata": {},
   "outputs": [],
   "source": []
  },
  {
   "cell_type": "code",
   "execution_count": null,
   "id": "7927e9cc",
   "metadata": {},
   "outputs": [],
   "source": []
  },
  {
   "cell_type": "code",
   "execution_count": null,
   "id": "95b974b9",
   "metadata": {},
   "outputs": [],
   "source": []
  },
  {
   "cell_type": "code",
   "execution_count": 23,
   "id": "9b2477bb",
   "metadata": {
    "scrolled": false
   },
   "outputs": [
    {
     "name": "stdout",
     "output_type": "stream",
     "text": [
      "-2.02732976118844\n",
      "1.8831627854278568\n"
     ]
    }
   ],
   "source": [
    "print(np.min(action_loaded))\n",
    "print(np.max(action_loaded))"
   ]
  },
  {
   "cell_type": "code",
   "execution_count": null,
   "id": "545b55cc",
   "metadata": {},
   "outputs": [],
   "source": []
  },
  {
   "cell_type": "code",
   "execution_count": null,
   "id": "1fcb6bcd",
   "metadata": {},
   "outputs": [],
   "source": []
  },
  {
   "cell_type": "code",
   "execution_count": 51,
   "id": "d25f9c3e",
   "metadata": {},
   "outputs": [
    {
     "data": {
      "text/plain": [
       "array([3, 4, 6])"
      ]
     },
     "execution_count": 51,
     "metadata": {},
     "output_type": "execute_result"
    }
   ],
   "source": [
    "a = [1,2,3]\n",
    "b = [2,2, 3]\n",
    "np.array(a)+np.array(b)"
   ]
  },
  {
   "cell_type": "code",
   "execution_count": 56,
   "id": "96a74b9f",
   "metadata": {},
   "outputs": [
    {
     "data": {
      "text/plain": [
       "array([[1.0000, 0.0000, 0.0000],\n",
       "       [0.0000, 1.0000, 0.0000],\n",
       "       [0.0000, 0.0000, 1.0000]])"
      ]
     },
     "execution_count": 56,
     "metadata": {},
     "output_type": "execute_result"
    }
   ],
   "source": [
    "np.eye(3)"
   ]
  },
  {
   "cell_type": "code",
   "execution_count": 57,
   "id": "b4c0d81c",
   "metadata": {},
   "outputs": [
    {
     "data": {
      "text/plain": [
       "array([1.0000, 0.0000, 0.0000])"
      ]
     },
     "execution_count": 57,
     "metadata": {},
     "output_type": "execute_result"
    }
   ],
   "source": [
    "np.eye(3)[:, 0]"
   ]
  },
  {
   "cell_type": "code",
   "execution_count": null,
   "id": "a18783a7",
   "metadata": {},
   "outputs": [],
   "source": []
  },
  {
   "cell_type": "code",
   "execution_count": null,
   "id": "b3175651",
   "metadata": {},
   "outputs": [],
   "source": []
  },
  {
   "cell_type": "code",
   "execution_count": null,
   "id": "c7ff16b6",
   "metadata": {},
   "outputs": [],
   "source": []
  },
  {
   "cell_type": "code",
   "execution_count": null,
   "id": "63fc4720",
   "metadata": {},
   "outputs": [],
   "source": []
  },
  {
   "cell_type": "code",
   "execution_count": null,
   "id": "1b188335",
   "metadata": {},
   "outputs": [],
   "source": []
  },
  {
   "cell_type": "code",
   "execution_count": null,
   "id": "a76b385a",
   "metadata": {},
   "outputs": [],
   "source": []
  },
  {
   "cell_type": "code",
   "execution_count": null,
   "id": "fdf4cf9d",
   "metadata": {},
   "outputs": [],
   "source": []
  },
  {
   "cell_type": "code",
   "execution_count": null,
   "id": "b9be2d1e",
   "metadata": {},
   "outputs": [],
   "source": []
  },
  {
   "cell_type": "code",
   "execution_count": null,
   "id": "79589f60",
   "metadata": {},
   "outputs": [],
   "source": []
  },
  {
   "cell_type": "code",
   "execution_count": null,
   "id": "2590a252",
   "metadata": {},
   "outputs": [],
   "source": []
  },
  {
   "cell_type": "code",
   "execution_count": null,
   "id": "94688641",
   "metadata": {},
   "outputs": [],
   "source": []
  }
 ],
 "metadata": {
  "kernelspec": {
   "display_name": "tacorl_venv",
   "language": "python",
   "name": "tacorl_venv"
  },
  "language_info": {
   "codemirror_mode": {
    "name": "ipython",
    "version": 3
   },
   "file_extension": ".py",
   "mimetype": "text/x-python",
   "name": "python",
   "nbconvert_exporter": "python",
   "pygments_lexer": "ipython3",
   "version": "3.7.16"
  }
 },
 "nbformat": 4,
 "nbformat_minor": 5
}
