{
 "cells": [
  {
   "cell_type": "code",
   "execution_count": 2,
   "id": "6f71e8fc",
   "metadata": {},
   "outputs": [],
   "source": [
    "import os \n",
    "import numpy as np\n",
    "import cv2\n",
    "\n",
    "\n",
    "def show(img):\n",
    "    cv2.imshow('img image',img.astype(np.uint8))\n",
    "    cv2.waitKey(0)\n",
    "    cv2.destroyAllWindows()\n",
    "    \n",
    "    \n",
    "def show_sequence(sequence):\n",
    "    for i in range(len(sequence)):\n",
    "        show(sequence[i])\n",
    "    \n",
    "    \n",
    "data_dir = '/home/dato/src/my_projects/robotics/inverse_kinematics_xarm/saved_data/2023-11-24'\n"
   ]
  },
  {
   "cell_type": "code",
   "execution_count": 8,
   "id": "4f1af6ee",
   "metadata": {},
   "outputs": [
    {
     "data": {
      "text/plain": [
       "{'17008636323028433'}"
      ]
     },
     "execution_count": 8,
     "metadata": {},
     "output_type": "execute_result"
    }
   ],
   "source": [
    "filenames = set([x.replace('actions_', '').replace('frames_', '').replace('.npy', '') for x in os.listdir(data_dir)])\n",
    "\n",
    "filenames"
   ]
  },
  {
   "cell_type": "code",
   "execution_count": 9,
   "id": "1aa7d851",
   "metadata": {},
   "outputs": [],
   "source": [
    "for filename in filenames:\n",
    "    action_loaded = np.load(os.path.join(data_dir, 'actions_' + filename + '.npy'))\n",
    "    frames_loaded = np.load(os.path.join(data_dir, 'frames_' + filename + '.npy'))\n",
    "    "
   ]
  },
  {
   "cell_type": "code",
   "execution_count": 10,
   "id": "274f1ed9",
   "metadata": {},
   "outputs": [
    {
     "data": {
      "text/plain": [
       "(100, 3)"
      ]
     },
     "execution_count": 10,
     "metadata": {},
     "output_type": "execute_result"
    }
   ],
   "source": [
    "action_loaded.shape"
   ]
  },
  {
   "cell_type": "code",
   "execution_count": 11,
   "id": "db4932a1",
   "metadata": {},
   "outputs": [
    {
     "data": {
      "text/plain": [
       "(99, 480, 640, 3)"
      ]
     },
     "execution_count": 11,
     "metadata": {},
     "output_type": "execute_result"
    }
   ],
   "source": [
    "frames_loaded.shape"
   ]
  },
  {
   "cell_type": "code",
   "execution_count": 13,
   "id": "132cb5df",
   "metadata": {},
   "outputs": [],
   "source": [
    "show_sequence(frames_loaded)"
   ]
  },
  {
   "cell_type": "code",
   "execution_count": 9,
   "id": "237b046d",
   "metadata": {},
   "outputs": [
    {
     "data": {
      "text/plain": [
       "[11, 2, 3]"
      ]
     },
     "execution_count": 9,
     "metadata": {},
     "output_type": "execute_result"
    }
   ],
   "source": [
    "a = [11,2,3,4,5,6]\n",
    "a[:3]"
   ]
  },
  {
   "cell_type": "code",
   "execution_count": null,
   "id": "4f021e8e",
   "metadata": {},
   "outputs": [],
   "source": []
  },
  {
   "cell_type": "code",
   "execution_count": 3,
   "id": "79e0aae8",
   "metadata": {},
   "outputs": [],
   "source": [
    "array = np.load('travelled_distance.npy')"
   ]
  },
  {
   "cell_type": "code",
   "execution_count": 6,
   "id": "f54befb3",
   "metadata": {},
   "outputs": [
    {
     "data": {
      "text/plain": [
       "array([[-1.16701671e-01, -6.24402071e-04,  1.86661967e-01],\n",
       "       [-1.23344174e-01, -6.28757655e-04,  1.56694141e-01],\n",
       "       [-1.29043719e-01, -6.22623169e-04,  1.18135859e-01],\n",
       "       [-1.34238079e-01, -6.18906883e-04,  8.49683638e-02],\n",
       "       [-1.35543870e-01, -5.96318343e-04,  4.90338839e-02],\n",
       "       [-1.45444460e-01, -6.21587314e-04,  2.47177583e-02],\n",
       "       [-1.41228862e-01, -6.21718237e-04,  4.90960447e-02],\n",
       "       [-1.35641657e-01, -6.15633730e-04,  7.29907670e-02],\n",
       "       [-1.29445593e-01, -6.07692195e-04,  9.76388499e-02],\n",
       "       [-1.26569089e-01, -6.11200840e-04,  1.17432501e-01],\n",
       "       [-1.22342480e-01, -6.08367258e-04,  1.36561286e-01],\n",
       "       [-1.19117487e-01, -9.50896098e-05,  1.62303847e-01],\n",
       "       [-1.20594402e-01, -6.35493300e-04,  1.79351582e-01],\n",
       "       [-1.14589188e-01, -2.86779634e-02,  1.73640169e-01],\n",
       "       [-1.04474916e-01, -5.56675921e-02,  1.72537752e-01],\n",
       "       [-9.45267008e-02, -8.23097855e-02,  1.72189403e-01],\n",
       "       [-8.43734703e-02, -1.06235485e-01,  1.67762875e-01],\n",
       "       [-7.49930797e-02, -1.28798727e-01,  1.69346872e-01],\n",
       "       [-9.25216601e-02, -2.18207417e-01,  1.95257815e-01],\n",
       "       [-7.52716363e-02, -1.91405897e-01,  1.83321868e-01],\n",
       "       [-6.33483859e-02, -1.69765776e-01,  1.84466659e-01],\n",
       "       [-6.17772767e-02, -1.69968491e-01,  1.41150992e-01],\n",
       "       [-6.17122619e-02, -1.69720202e-01,  1.12287313e-01],\n",
       "       [-6.04222395e-02, -1.66088703e-01,  7.32613715e-02],\n",
       "       [-6.06601440e-02, -1.66681490e-01,  4.71452885e-02],\n",
       "       [-5.96480588e-02, -1.63934717e-01,  6.18353944e-02],\n",
       "       [-5.95304784e-02, -1.63668209e-01,  8.80464400e-02],\n",
       "       [-5.97972926e-02, -1.62224961e-01,  1.00818106e-01],\n",
       "       [-5.97323039e-02, -1.64313711e-01,  1.24795463e-01],\n",
       "       [-6.02228109e-02, -1.65703401e-01,  1.43640812e-01],\n",
       "       [-6.14509291e-02, -1.69141814e-01,  1.69319393e-01],\n",
       "       [-6.23027271e-02, -1.71506147e-01,  1.80229626e-01],\n",
       "       [-7.08054216e-02, -1.43829600e-01,  1.77240020e-01],\n",
       "       [-8.09642087e-02, -1.17997072e-01,  1.76592023e-01],\n",
       "       [-9.03634840e-02, -9.05095947e-02,  1.71391993e-01],\n",
       "       [-9.95844669e-02, -6.35713427e-02,  1.78808915e-01],\n",
       "       [-1.08814448e-01, -3.54737890e-02,  1.82868896e-01],\n",
       "       [-1.15785473e-01, -6.23321980e-04,  1.90075576e-01]])"
      ]
     },
     "execution_count": 6,
     "metadata": {},
     "output_type": "execute_result"
    }
   ],
   "source": [
    "array"
   ]
  },
  {
   "cell_type": "code",
   "execution_count": null,
   "id": "8ed966bd",
   "metadata": {},
   "outputs": [],
   "source": []
  },
  {
   "cell_type": "code",
   "execution_count": null,
   "id": "f3b81ead",
   "metadata": {},
   "outputs": [],
   "source": []
  },
  {
   "cell_type": "code",
   "execution_count": null,
   "id": "a18783a7",
   "metadata": {},
   "outputs": [],
   "source": []
  },
  {
   "cell_type": "code",
   "execution_count": null,
   "id": "b3175651",
   "metadata": {},
   "outputs": [],
   "source": []
  },
  {
   "cell_type": "code",
   "execution_count": null,
   "id": "c7ff16b6",
   "metadata": {},
   "outputs": [],
   "source": []
  },
  {
   "cell_type": "code",
   "execution_count": null,
   "id": "63fc4720",
   "metadata": {},
   "outputs": [],
   "source": []
  },
  {
   "cell_type": "code",
   "execution_count": null,
   "id": "1b188335",
   "metadata": {},
   "outputs": [],
   "source": []
  },
  {
   "cell_type": "code",
   "execution_count": null,
   "id": "a76b385a",
   "metadata": {},
   "outputs": [],
   "source": []
  },
  {
   "cell_type": "code",
   "execution_count": null,
   "id": "fdf4cf9d",
   "metadata": {},
   "outputs": [],
   "source": []
  },
  {
   "cell_type": "code",
   "execution_count": null,
   "id": "b9be2d1e",
   "metadata": {},
   "outputs": [],
   "source": []
  },
  {
   "cell_type": "code",
   "execution_count": null,
   "id": "79589f60",
   "metadata": {},
   "outputs": [],
   "source": []
  },
  {
   "cell_type": "code",
   "execution_count": null,
   "id": "2590a252",
   "metadata": {},
   "outputs": [],
   "source": []
  },
  {
   "cell_type": "code",
   "execution_count": null,
   "id": "94688641",
   "metadata": {},
   "outputs": [],
   "source": []
  }
 ],
 "metadata": {
  "kernelspec": {
   "display_name": "tacorl_venv",
   "language": "python",
   "name": "tacorl_venv"
  },
  "language_info": {
   "codemirror_mode": {
    "name": "ipython",
    "version": 3
   },
   "file_extension": ".py",
   "mimetype": "text/x-python",
   "name": "python",
   "nbconvert_exporter": "python",
   "pygments_lexer": "ipython3",
   "version": "3.7.16"
  }
 },
 "nbformat": 4,
 "nbformat_minor": 5
}
