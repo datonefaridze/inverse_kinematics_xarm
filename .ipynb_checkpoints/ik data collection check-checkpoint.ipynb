{
 "cells": [
  {
   "cell_type": "code",
   "execution_count": 12,
   "id": "6f71e8fc",
   "metadata": {},
   "outputs": [],
   "source": [
    "import os \n",
    "import numpy as np\n",
    "import cv2\n",
    "\n",
    "\n",
    "def show(img):\n",
    "    cv2.imshow('img image',img.astype(np.uint8))\n",
    "    cv2.waitKey(0)\n",
    "    cv2.destroyAllWindows()\n",
    "    \n",
    "    \n",
    "def show_sequence(sequence):\n",
    "    for i in range(len(sequence)):\n",
    "        show(sequence[i])\n",
    "    \n",
    "    \n",
    "data_dir = '/home/dato/src/my_projects/robotics/inverse_kinematics_xarm/saved_data/2023-11-25'\n"
   ]
  },
  {
   "cell_type": "code",
   "execution_count": 13,
   "id": "4f1af6ee",
   "metadata": {},
   "outputs": [
    {
     "data": {
      "text/plain": [
       "{'17009427230471194', 'states_17009427230471194'}"
      ]
     },
     "execution_count": 13,
     "metadata": {},
     "output_type": "execute_result"
    }
   ],
   "source": [
    "filenames = set([x.replace('actions_', '').replace('frames_', '').replace('.npy', '') for x in os.listdir(data_dir)])\n",
    "\n",
    "filenames"
   ]
  },
  {
   "cell_type": "code",
   "execution_count": 9,
   "id": "1aa7d851",
   "metadata": {},
   "outputs": [],
   "source": [
    "for filename in filenames:\n",
    "    action_loaded = np.load(os.path.join(data_dir, 'actions_' + filename + '.npy'))\n",
    "    frames_loaded = np.load(os.path.join(data_dir, 'frames_' + filename + '.npy'))\n",
    "    "
   ]
  },
  {
   "cell_type": "code",
   "execution_count": 13,
   "id": "132cb5df",
   "metadata": {},
   "outputs": [],
   "source": [
    "show_sequence(frames_loaded)"
   ]
  },
  {
   "cell_type": "code",
   "execution_count": null,
   "id": "f3b81ead",
   "metadata": {},
   "outputs": [],
   "source": []
  },
  {
   "cell_type": "code",
   "execution_count": null,
   "id": "0157001e",
   "metadata": {},
   "outputs": [],
   "source": []
  },
  {
   "cell_type": "code",
   "execution_count": null,
   "id": "a18783a7",
   "metadata": {},
   "outputs": [],
   "source": []
  },
  {
   "cell_type": "code",
   "execution_count": null,
   "id": "b3175651",
   "metadata": {},
   "outputs": [],
   "source": []
  },
  {
   "cell_type": "code",
   "execution_count": null,
   "id": "c7ff16b6",
   "metadata": {},
   "outputs": [],
   "source": []
  },
  {
   "cell_type": "code",
   "execution_count": null,
   "id": "63fc4720",
   "metadata": {},
   "outputs": [],
   "source": []
  },
  {
   "cell_type": "code",
   "execution_count": null,
   "id": "1b188335",
   "metadata": {},
   "outputs": [],
   "source": []
  },
  {
   "cell_type": "code",
   "execution_count": null,
   "id": "a76b385a",
   "metadata": {},
   "outputs": [],
   "source": []
  },
  {
   "cell_type": "code",
   "execution_count": null,
   "id": "fdf4cf9d",
   "metadata": {},
   "outputs": [],
   "source": []
  },
  {
   "cell_type": "code",
   "execution_count": null,
   "id": "b9be2d1e",
   "metadata": {},
   "outputs": [],
   "source": []
  },
  {
   "cell_type": "code",
   "execution_count": null,
   "id": "79589f60",
   "metadata": {},
   "outputs": [],
   "source": []
  },
  {
   "cell_type": "code",
   "execution_count": null,
   "id": "2590a252",
   "metadata": {},
   "outputs": [],
   "source": []
  },
  {
   "cell_type": "code",
   "execution_count": null,
   "id": "94688641",
   "metadata": {},
   "outputs": [],
   "source": []
  }
 ],
 "metadata": {
  "kernelspec": {
   "display_name": "tacorl_venv",
   "language": "python",
   "name": "tacorl_venv"
  },
  "language_info": {
   "codemirror_mode": {
    "name": "ipython",
    "version": 3
   },
   "file_extension": ".py",
   "mimetype": "text/x-python",
   "name": "python",
   "nbconvert_exporter": "python",
   "pygments_lexer": "ipython3",
   "version": "3.7.16"
  }
 },
 "nbformat": 4,
 "nbformat_minor": 5
}
