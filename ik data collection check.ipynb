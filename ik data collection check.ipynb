{
 "cells": [
  {
   "cell_type": "code",
   "execution_count": 1,
   "id": "6f71e8fc",
   "metadata": {},
   "outputs": [],
   "source": [
    "import os \n",
    "import numpy as np\n",
    "import cv2\n",
    "\n",
    "\n",
    "def show(img):\n",
    "    cv2.imshow('img image',img.astype(np.uint8))\n",
    "    cv2.waitKey(0)\n",
    "    cv2.destroyAllWindows()\n",
    "    \n",
    "    \n",
    "def show_sequence(sequence):\n",
    "    for i in range(len(sequence)):\n",
    "        show(sequence[i])\n",
    "    \n",
    "    \n",
    "data_dir = '/home/dato/src/my_projects/robotics/inverse_kinematics_xarm/saved_data/2023-11-25'\n"
   ]
  },
  {
   "cell_type": "code",
   "execution_count": null,
   "id": "652af120",
   "metadata": {},
   "outputs": [],
   "source": []
  },
  {
   "cell_type": "code",
   "execution_count": 98,
   "id": "4f1af6ee",
   "metadata": {},
   "outputs": [
    {
     "data": {
      "text/plain": [
       "{'17009495958617907'}"
      ]
     },
     "execution_count": 98,
     "metadata": {},
     "output_type": "execute_result"
    }
   ],
   "source": [
    "filenames = set([x.replace('actions_', '').replace('frames_', '').replace('.npy', '').replace('states_', '') for x in os.listdir(data_dir)])\n",
    "\n",
    "filenames"
   ]
  },
  {
   "cell_type": "code",
   "execution_count": 105,
   "id": "1aa7d851",
   "metadata": {},
   "outputs": [],
   "source": [
    "for filename in filenames:\n",
    "    action_loaded = np.load(os.path.join(data_dir, 'actions_' + filename + '.npy'))\n",
    "    frames_loaded = np.load(os.path.join(data_dir, 'frames_' + filename + '.npy'))\n",
    "    break"
   ]
  },
  {
   "cell_type": "code",
   "execution_count": 106,
   "id": "17e49d80",
   "metadata": {},
   "outputs": [
    {
     "name": "stdout",
     "output_type": "stream",
     "text": [
      "(49, 240, 320, 3)\n",
      "(49, 4)\n"
     ]
    }
   ],
   "source": [
    "print(frames_loaded.shape)\n",
    "print(action_loaded.shape)"
   ]
  },
  {
   "cell_type": "code",
   "execution_count": 108,
   "id": "102a7b9b",
   "metadata": {},
   "outputs": [
    {
     "name": "stdout",
     "output_type": "stream",
     "text": [
      "[-5.91160736e-03 -2.81753345e-06 -2.78771285e-02  1.00000000e+00]\n",
      "[-5.32829229e-03  4.61502516e-06 -3.46844683e-02  1.00000000e+00]\n",
      "[-5.70159947e-03  2.86503691e-06 -3.46949576e-02  1.00000000e+00]\n",
      "[ 1.63960716e-03  3.56312796e-05 -3.57570027e-02  1.00000000e+00]\n",
      "[-1.07382474e-02 -2.47713538e-05 -2.97366389e-02  1.00000000e+00]\n",
      "[ 2.80199336e-03  6.07425654e-04  2.50615011e-02 -1.00000000e+00]\n",
      "[ 4.03260924e-03 -6.15527930e-04  2.43265431e-02 -1.00000000e+00]\n",
      "[ 5.49246025e-03  6.59416866e-06  2.20984709e-02 -1.00000000e+00]\n",
      "[ 3.82705542e-03  6.03381086e-07  2.00830127e-02 -1.00000000e+00]\n",
      "[ 3.27227738e-03  5.39851312e-04  1.98645522e-02 -1.00000000e+00]\n",
      "[ 3.47416730e-03 -5.43102561e-04  2.11085388e-02 -1.00000000e+00]\n",
      "[ 4.30068562e-04 -1.86027349e-05  2.46996744e-02 -1.00000000e+00]\n",
      "[ 8.40655938e-03 -2.73688534e-02  1.93854123e-04 -1.00000000e+00]\n",
      "[ 0.00935727 -0.02719597 -0.00468827 -1.        ]\n",
      "[ 0.00874818 -0.02716272 -0.00299391 -1.        ]\n",
      "[ 0.01090626 -0.02384612 -0.00524351 -1.        ]\n",
      "[ 0.00844728 -0.02287538  0.00552284 -1.        ]\n",
      "[ 0.00789633 -0.02234593  0.00720833 -1.        ]\n",
      "[ 0.00387176 -0.01868092  0.00158137 -1.        ]\n",
      "[ 1.06523586e-03  7.23212528e-04 -4.54092211e-02 -1.00000000e+00]\n",
      "[-3.10191315e-04  1.51004354e-03 -3.29194095e-02 -1.00000000e+00]\n",
      "[ 0.00110742  0.00308846 -0.03953382 -1.        ]\n",
      "[-0.00132199 -0.00130886 -0.01707267 -1.        ]\n",
      "[0.00237879 0.00197222 0.01690918 1.        ]\n",
      "[5.57197178e-04 1.48932532e-03 1.99493275e-02 1.00000000e+00]\n",
      "[4.60331857e-04 1.23176790e-03 1.42415253e-02 1.00000000e+00]\n",
      "[-6.63143940e-04 -1.87197915e-03  2.12491441e-02  1.00000000e+00]\n",
      "[-7.61306152e-04 -2.14715737e-03  2.13392682e-02  1.00000000e+00]\n",
      "[-0.00127699 -0.00355404  0.01866835  1.        ]\n",
      "[-6.41696639e-04 -1.81451102e-03  2.25659526e-02  1.00000000e+00]\n",
      "[-0.00888086  0.0267307  -0.00732231  1.        ]\n",
      "[-9.81489634e-03  2.63967022e-02  8.49197835e-04  1.00000000e+00]\n",
      "[-0.00875448  0.02802857 -0.00507655  1.        ]\n",
      "[-0.00951724  0.02643558  0.00475192  1.        ]\n",
      "[-0.01002771  0.02712962  0.00592539  1.        ]\n",
      "[-0.00819298  0.03493474  0.0032717   1.        ]\n",
      "[0. 0. 0. 1.]\n",
      "[0. 0. 0. 1.]\n",
      "[0. 0. 0. 1.]\n",
      "[0. 0. 0. 1.]\n",
      "[0. 0. 0. 1.]\n",
      "[0. 0. 0. 1.]\n",
      "[0. 0. 0. 1.]\n",
      "[0. 0. 0. 1.]\n",
      "[0. 0. 0. 1.]\n",
      "[0. 0. 0. 1.]\n",
      "[0. 0. 0. 1.]\n",
      "[0. 0. 0. 1.]\n",
      "[0. 0. 0. 1.]\n"
     ]
    }
   ],
   "source": [
    "for i in range(action_loaded.shape[0]):\n",
    "    print(action_loaded[i])\n",
    "    show(frames_loaded[i])"
   ]
  },
  {
   "cell_type": "code",
   "execution_count": null,
   "id": "0177fbae",
   "metadata": {},
   "outputs": [],
   "source": []
  },
  {
   "cell_type": "code",
   "execution_count": null,
   "id": "4df10aa5",
   "metadata": {},
   "outputs": [],
   "source": []
  },
  {
   "cell_type": "code",
   "execution_count": null,
   "id": "d0dc1e4a",
   "metadata": {},
   "outputs": [],
   "source": []
  },
  {
   "cell_type": "code",
   "execution_count": null,
   "id": "21cc5022",
   "metadata": {},
   "outputs": [],
   "source": []
  },
  {
   "cell_type": "code",
   "execution_count": null,
   "id": "7425b698",
   "metadata": {},
   "outputs": [],
   "source": []
  },
  {
   "cell_type": "code",
   "execution_count": null,
   "id": "e54ad62e",
   "metadata": {},
   "outputs": [],
   "source": []
  },
  {
   "cell_type": "code",
   "execution_count": null,
   "id": "9bba0c11",
   "metadata": {},
   "outputs": [],
   "source": []
  },
  {
   "cell_type": "code",
   "execution_count": 4,
   "id": "fbe428a3",
   "metadata": {},
   "outputs": [
    {
     "data": {
      "text/plain": [
       "3096"
      ]
     },
     "execution_count": 4,
     "metadata": {},
     "output_type": "execute_result"
    }
   ],
   "source": [
    "3096"
   ]
  },
  {
   "cell_type": "code",
   "execution_count": 5,
   "id": "b45b3fe0",
   "metadata": {},
   "outputs": [
    {
     "data": {
      "text/plain": [
       "3102"
      ]
     },
     "execution_count": 5,
     "metadata": {},
     "output_type": "execute_result"
    }
   ],
   "source": [
    "3102"
   ]
  },
  {
   "cell_type": "code",
   "execution_count": null,
   "id": "59c34a3f",
   "metadata": {},
   "outputs": [],
   "source": [
    "relocate-v0: 3102\n",
    "xarm: 3072\n",
    "    "
   ]
  },
  {
   "cell_type": "code",
   "execution_count": null,
   "id": "2ac41a11",
   "metadata": {},
   "outputs": [],
   "source": []
  },
  {
   "cell_type": "code",
   "execution_count": 7,
   "id": "f02ae59c",
   "metadata": {},
   "outputs": [
    {
     "name": "stdout",
     "output_type": "stream",
     "text": [
      "0.0\n",
      "0.2\n",
      "0.4\n",
      "0.6000000000000001\n",
      "0.8\n",
      "1.0\n"
     ]
    }
   ],
   "source": [
    "t=0.2\n",
    "\n",
    "for x in np.arange(0, 1+t, t):\n",
    "    print(x)"
   ]
  },
  {
   "cell_type": "code",
   "execution_count": 9,
   "id": "aa60c6f0",
   "metadata": {},
   "outputs": [
    {
     "name": "stdout",
     "output_type": "stream",
     "text": [
      "0.0\n",
      "0.2\n",
      "0.4\n",
      "0.6000000000000001\n",
      "0.8\n"
     ]
    }
   ],
   "source": [
    "t=0.2\n",
    "\n",
    "for x in np.arange(0, 1, t):\n",
    "    print(x)"
   ]
  },
  {
   "cell_type": "code",
   "execution_count": null,
   "id": "e2b41f71",
   "metadata": {},
   "outputs": [],
   "source": []
  },
  {
   "cell_type": "code",
   "execution_count": null,
   "id": "2ee3818f",
   "metadata": {},
   "outputs": [],
   "source": []
  },
  {
   "cell_type": "code",
   "execution_count": null,
   "id": "ba369bb7",
   "metadata": {},
   "outputs": [],
   "source": []
  },
  {
   "cell_type": "code",
   "execution_count": null,
   "id": "964152dd",
   "metadata": {},
   "outputs": [],
   "source": []
  },
  {
   "cell_type": "code",
   "execution_count": null,
   "id": "2961f679",
   "metadata": {},
   "outputs": [],
   "source": []
  },
  {
   "cell_type": "code",
   "execution_count": null,
   "id": "6d328136",
   "metadata": {},
   "outputs": [],
   "source": []
  },
  {
   "cell_type": "code",
   "execution_count": 46,
   "id": "12e9f9d2",
   "metadata": {},
   "outputs": [
    {
     "name": "stdout",
     "output_type": "stream",
     "text": [
      "[[-0.2154, -0.0028, 0.0701], [-0.209422, 0.002996000000000001, 0.069393], [-0.203444, 0.008792000000000001, 0.068686], [-0.197466, 0.014588, 0.067979], [-0.191488, 0.020384000000000003, 0.067272], [-0.18551, 0.026180000000000002, 0.066565], [-0.179532, 0.031976000000000004, 0.065858], [-0.17355399999999999, 0.03777200000000001, 0.065151], [-0.167576, 0.04356800000000001, 0.064444], [-0.161598, 0.04936400000000001, 0.063737], [-0.15562, 0.05516000000000001, 0.06303], [-0.149642, 0.06095600000000001, 0.062322999999999996], [-0.14366400000000001, 0.066752, 0.061616], [-0.13768599999999998, 0.07254800000000002, 0.060909], [-0.13, 0.08, 0.06], [-0.13, 0.0639, 0.11208], [-0.13, 0.0478, 0.15632000000000001], [-0.13, 0.0317, 0.19272000000000003], [-0.13, 0.015600000000000003, 0.22128], [-0.13, -0.0005000000000000004, 0.242], [-0.13, -0.016600000000000004, 0.25488], [-0.13, -0.03270000000000001, 0.25992000000000004], [-0.13, -0.048799999999999996, 0.25712], [-0.13, -0.06490000000000003, 0.24647999999999998], [-0.13, -0.081, 0.22799999999999998], [-0.13, -0.09709999999999998, 0.20168], [-0.13, -0.11320000000000001, 0.16751999999999997], [-0.13, -0.12930000000000003, 0.1255199999999999], [-0.13, -0.14540000000000003, 0.07567999999999993], [-0.13, -0.16149999999999998, 0.017999999999999954], [-0.13, -0.1339, 0.11208], [-0.13, -0.11779999999999999, 0.15632000000000001], [-0.13, -0.10169999999999998, 0.19272000000000003], [-0.13, -0.0856, 0.22128], [-0.13, -0.06949999999999999, 0.242], [-0.13, -0.05339999999999999, 0.25488], [-0.13, -0.037299999999999986, 0.25992000000000004], [-0.13, -0.021199999999999997, 0.25712], [-0.13, -0.005099999999999966, 0.24647999999999998], [-0.13, 0.011000000000000038, 0.22799999999999995], [-0.13, 0.027099999999999985, 0.20168], [-0.13, 0.043200000000000016, 0.16751999999999997], [-0.13, 0.05930000000000002, 0.1255199999999999]]\n"
     ]
    }
   ],
   "source": [
    "import math\n",
    "\n",
    "class ParabolicController:\n",
    "    def __init__(self, current_location, p1, p2, h=0.2, t=0.07):\n",
    "        # 1 ღიაა\n",
    "        # -1 დახურულია\n",
    "\n",
    "        self.current_location = current_location\n",
    "        self.p1 = p1\n",
    "        self.p2 = p2\n",
    "        assert p1[-1]==p2[-1]\n",
    "        self.Z_coordinate = p1[-1]\n",
    "        self.h = h\n",
    "        self.t = t\n",
    "        self.sequence, self.gripper = self.get_sequence()\n",
    "        print(self.sequence)\n",
    "        self.total_len = 1/self.t\n",
    "        self.chasing_idx = 0\n",
    "        self.gripper_open = 1\n",
    "\n",
    "    def get_sequence(self):\n",
    "        stop_height = 0.1\n",
    "        sequence = []\n",
    "        gripper = []\n",
    "        for x in np.arange(0, 1, self.t):\n",
    "            sequence.append(self.cl_pt_linear(self.current_location, self.p1, x))\n",
    "            if x + self.t * 1.5 >= 1:\n",
    "                break\n",
    "            gripper.append(1)\n",
    "        \n",
    "        for x in np.arange(0, 1+self.t, self.t):\n",
    "            sequence.append(self.cl_pt(self.p1, self.p2, x))\n",
    "            if x >= 1:\n",
    "                gripper.append(1)\n",
    "            else:\n",
    "                gripper.append(-1)\n",
    "\n",
    "        root = (1 + math.sqrt(1-stop_height/self.h)) / 2\n",
    "        for x in np.arange(self.t, 1+self.t, self.t):\n",
    "            sequence.append(self.cl_pt(self.p2, self.p1, x))\n",
    "            gripper.append(1)\n",
    "            if x >= root:\n",
    "                break\n",
    "        return sequence, gripper\n",
    "    \n",
    "    def cl_pt_linear(self, p1, p2, t):\n",
    "        x_t = p1[0] + (p2[0]-p1[0])*t\n",
    "        y_t = p1[1] + (p2[1]-p1[1])*t\n",
    "        z_t = p1[2] + (p2[2]-p1[2])*t\n",
    "        return [x_t, y_t, z_t]\n",
    "\n",
    "    def cl_pt(self, p1, p2, t):\n",
    "        x_t = p1[0] + (p2[0]-p1[0])*t\n",
    "        y_t = p1[1] + (p2[1]-p1[1])*t\n",
    "        z_t = 4*self.h*t*(1-t) + self.Z_coordinate \n",
    "        return [x_t, y_t, z_t]\n",
    "    \n",
    "    \n",
    "loc = [-0.2154, -0.0028, 0.0701]\n",
    "controller = ParabolicController(loc, [-0.13, 0.08, 0.06], [-0.13, -0.15, 0.06]) \n",
    "\n",
    "\n",
    "\n"
   ]
  },
  {
   "cell_type": "code",
   "execution_count": null,
   "id": "431192a2",
   "metadata": {},
   "outputs": [],
   "source": []
  },
  {
   "cell_type": "code",
   "execution_count": 47,
   "id": "b2eaff67",
   "metadata": {},
   "outputs": [
    {
     "name": "stdout",
     "output_type": "stream",
     "text": [
      "[-0.13, 0.08, 0.06] 0.0\n",
      "[-0.13, 0.0639, 0.11208] 0.07\n",
      "[-0.13, 0.0478, 0.15632000000000001] 0.14\n",
      "[-0.13, 0.0317, 0.19272000000000003] 0.21000000000000002\n",
      "[-0.13, 0.015600000000000003, 0.22128] 0.28\n",
      "[-0.13, -0.0005000000000000004, 0.242] 0.35000000000000003\n",
      "[-0.13, -0.016600000000000004, 0.25488] 0.42000000000000004\n",
      "[-0.13, -0.03270000000000001, 0.25992000000000004] 0.49000000000000005\n",
      "[-0.13, -0.048799999999999996, 0.25712] 0.56\n",
      "[-0.13, -0.06490000000000003, 0.24647999999999998] 0.6300000000000001\n",
      "[-0.13, -0.081, 0.22799999999999998] 0.7000000000000001\n",
      "[-0.13, -0.09709999999999998, 0.20168] 0.77\n",
      "[-0.13, -0.11320000000000001, 0.16751999999999997] 0.8400000000000001\n",
      "[-0.13, -0.12930000000000003, 0.1255199999999999] 0.9100000000000001\n",
      "[-0.13, -0.14540000000000003, 0.07567999999999993] 0.9800000000000001\n",
      "[-0.13, -0.16149999999999998, 0.017999999999999954] 1.05\n"
     ]
    }
   ],
   "source": [
    "sequence = []\n",
    "gripper = []\n",
    "\n",
    "\n",
    "# for x in np.arange(0, 1, controller.t):\n",
    "#     sequence.append(controller.cl_pt_linear(controller.current_location, controller.p1, x))\n",
    "#     if x + controller.t * 1.5 >= 1:\n",
    "#         break\n",
    "#     gripper.append(1)\n",
    "\n",
    "# print(sequence)\n",
    "# print('=============')\n",
    "\n",
    "sequence = []\n",
    "for x in np.arange(0, 1+controller.t, controller.t):\n",
    "    print(controller.cl_pt(controller.p1, controller.p2, x), x)\n",
    "    sequence.append(controller.cl_pt(controller.p1, controller.p2, x))\n",
    "    if x >= 1:\n",
    "        gripper.append(1)\n",
    "    else:\n",
    "        gripper.append(-1)\n",
    "    \n",
    "    "
   ]
  },
  {
   "cell_type": "code",
   "execution_count": 37,
   "id": "a6c324bd",
   "metadata": {},
   "outputs": [
    {
     "data": {
      "text/plain": [
       "[-0.13, 0.08, 0.06]"
      ]
     },
     "execution_count": 37,
     "metadata": {},
     "output_type": "execute_result"
    }
   ],
   "source": [
    "controller.p1"
   ]
  },
  {
   "cell_type": "code",
   "execution_count": 38,
   "id": "35e55f97",
   "metadata": {},
   "outputs": [
    {
     "data": {
      "text/plain": [
       "[-0.13, -0.15, 0.06]"
      ]
     },
     "execution_count": 38,
     "metadata": {},
     "output_type": "execute_result"
    }
   ],
   "source": [
    "controller.p2"
   ]
  },
  {
   "cell_type": "code",
   "execution_count": null,
   "id": "c975e555",
   "metadata": {},
   "outputs": [],
   "source": []
  },
  {
   "cell_type": "code",
   "execution_count": 44,
   "id": "ed177bd8",
   "metadata": {},
   "outputs": [
    {
     "name": "stdout",
     "output_type": "stream",
     "text": [
      "0.0\n"
     ]
    },
    {
     "data": {
      "text/plain": [
       "[-0.13, 0.08, 0.0]"
      ]
     },
     "execution_count": 44,
     "metadata": {},
     "output_type": "execute_result"
    }
   ],
   "source": [
    "def cl_pt(p1, p2, t):\n",
    "    x_t = p1[0] + (p2[0]-p1[0])*t\n",
    "    y_t = p1[1] + (p2[1]-p1[1])*t\n",
    "    z_t = 4*controller.h*t*(1-t)\n",
    "    print(z_t)\n",
    "    return [x_t, y_t, z_t]\n",
    "\n",
    "cl_pt(controller.p1, controller.p2, 0)"
   ]
  },
  {
   "cell_type": "code",
   "execution_count": null,
   "id": "672d024b",
   "metadata": {},
   "outputs": [],
   "source": []
  },
  {
   "cell_type": "code",
   "execution_count": null,
   "id": "a30de159",
   "metadata": {},
   "outputs": [],
   "source": []
  },
  {
   "cell_type": "code",
   "execution_count": null,
   "id": "65e7e710",
   "metadata": {},
   "outputs": [],
   "source": []
  },
  {
   "cell_type": "code",
   "execution_count": null,
   "id": "d08b69df",
   "metadata": {},
   "outputs": [],
   "source": []
  },
  {
   "cell_type": "code",
   "execution_count": null,
   "id": "05578fc2",
   "metadata": {},
   "outputs": [],
   "source": []
  },
  {
   "cell_type": "code",
   "execution_count": null,
   "id": "5581da28",
   "metadata": {},
   "outputs": [],
   "source": []
  },
  {
   "cell_type": "code",
   "execution_count": null,
   "id": "f82e65c1",
   "metadata": {},
   "outputs": [],
   "source": []
  },
  {
   "cell_type": "code",
   "execution_count": null,
   "id": "e55a71c2",
   "metadata": {},
   "outputs": [],
   "source": []
  },
  {
   "cell_type": "code",
   "execution_count": null,
   "id": "209480bd",
   "metadata": {},
   "outputs": [],
   "source": []
  },
  {
   "cell_type": "code",
   "execution_count": null,
   "id": "d1250496",
   "metadata": {},
   "outputs": [],
   "source": []
  },
  {
   "cell_type": "code",
   "execution_count": 21,
   "id": "b26dde9f",
   "metadata": {},
   "outputs": [
    {
     "data": {
      "image/png": "[encoded data removed]",
      "text/plain": [
       "<Figure size 640x480 with 1 Axes>"
      ]
     },
     "metadata": {},
     "output_type": "display_data"
    }
   ],
   "source": [
    "import matplotlib.pyplot as plt\n",
    "from mpl_toolkits.mplot3d import Axes3D\n",
    "\n",
    "fig = plt.figure()\n",
    "ax = fig.add_subplot(111, projection='3d')\n",
    "\n",
    "for point in points:\n",
    "    ax.scatter(point[0], point[1], point[2])\n",
    "\n",
    "ax.set_xlabel('X Label')\n",
    "ax.set_ylabel('Y Label')\n",
    "ax.set_zlabel('Z Label')\n",
    "\n",
    "plt.show()\n"
   ]
  },
  {
   "cell_type": "code",
   "execution_count": null,
   "id": "94688641",
   "metadata": {},
   "outputs": [],
   "source": []
  }
 ],
 "metadata": {
  "kernelspec": {
   "display_name": "tacorl_venv",
   "language": "python",
   "name": "tacorl_venv"
  },
  "language_info": {
   "codemirror_mode": {
    "name": "ipython",
    "version": 3
   },
   "file_extension": ".py",
   "mimetype": "text/x-python",
   "name": "python",
   "nbconvert_exporter": "python",
   "pygments_lexer": "ipython3",
   "version": "3.7.16"
  }
 },
 "nbformat": 4,
 "nbformat_minor": 5
}
