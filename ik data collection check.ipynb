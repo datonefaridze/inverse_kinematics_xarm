{
 "cells": [
  {
   "cell_type": "code",
   "execution_count": 74,
   "id": "6f71e8fc",
   "metadata": {},
   "outputs": [
    {
     "data": {
      "text/plain": [
       "{'1701207234580959'}"
      ]
     },
     "execution_count": 74,
     "metadata": {},
     "output_type": "execute_result"
    }
   ],
   "source": [
    "import os \n",
    "import numpy as np\n",
    "import cv2\n",
    "np.set_printoptions(suppress=True)\n",
    "\n",
    "\n",
    "def show(img):\n",
    "    cv2.imshow('img image',img.astype(np.uint8))\n",
    "    cv2.waitKey(0)\n",
    "    cv2.destroyAllWindows()\n",
    "    \n",
    "    \n",
    "def show_sequence(sequence):\n",
    "    for i in range(len(sequence)):\n",
    "        show(sequence[i])\n",
    "    \n",
    "    \n",
    "data_dir = '/home/dato/src/my_projects/robotics/inverse_kinematics_xarm/saved_data/2023-11-28'\n",
    "filenames = set([x.replace('actions_', '').replace('frames_', '').replace('.npy', '').replace('states_', '') for x in os.listdir(data_dir)])\n",
    "\n",
    "filenames"
   ]
  },
  {
   "cell_type": "code",
   "execution_count": 80,
   "id": "1aa7d851",
   "metadata": {},
   "outputs": [],
   "source": [
    "for filename in filenames:\n",
    "    action_loaded = np.load(os.path.join(data_dir, 'actions_' + filename + '.npy'))\n",
    "    frames_loaded = np.load(os.path.join(data_dir, 'frames_' + filename + '.npy'))\n",
    "    states_loaded = np.load(os.path.join(data_dir, 'states_' + filename + '.npy'))\n",
    "    break"
   ]
  },
  {
   "cell_type": "code",
   "execution_count": 81,
   "id": "8d6156d2",
   "metadata": {},
   "outputs": [
    {
     "data": {
      "text/plain": [
       "array([[-0.10132686,  0.04980654,  0.22125744],\n",
       "       [-0.10116337,  0.04971912,  0.22863374],\n",
       "       [-0.1074604 ,  0.05399694,  0.22594477],\n",
       "       [-0.10881602,  0.05708371,  0.22382289],\n",
       "       [-0.11136005,  0.05967541,  0.21584988],\n",
       "       [-0.11565324,  0.06265411,  0.19391469],\n",
       "       [-0.11779037,  0.06583572,  0.1817834 ],\n",
       "       [-0.12098391,  0.06904517,  0.15251592],\n",
       "       [-0.12027739,  0.07007619,  0.11546475],\n",
       "       [-0.12467836,  0.07414435,  0.07613232],\n",
       "       [-0.12643849,  0.0759772 ,  0.03555081],\n",
       "       [-0.12686464,  0.05777265,  0.09203124],\n",
       "       [-0.12862381,  0.03499196,  0.13384704],\n",
       "       [-0.13065055,  0.01248617,  0.15948813],\n",
       "       [-0.1314615 , -0.01104097,  0.18635941],\n",
       "       [-0.13072102, -0.0339347 ,  0.19422461],\n",
       "       [-0.13197233, -0.05750986,  0.18528969],\n",
       "       [-0.12984273, -0.07891007,  0.16889257],\n",
       "       [-0.12932423, -0.10113654,  0.1373097 ],\n",
       "       [-0.12829371, -0.1239429 ,  0.08510312],\n",
       "       [-0.13025684, -0.14722718,  0.03637148],\n",
       "       [-0.12774861, -0.12669481,  0.08884484],\n",
       "       [-0.12912769, -0.10466138,  0.1344049 ],\n",
       "       [-0.12994254, -0.08289597,  0.16102384],\n",
       "       [-0.13275342, -0.06062359,  0.18177799],\n",
       "       [-0.13104979, -0.03647101,  0.1931881 ],\n",
       "       [-0.13063691, -0.0126981 ,  0.18843165],\n",
       "       [-0.13099148,  0.00963439,  0.16661826],\n",
       "       [-0.13054089,  0.03307102,  0.14260202],\n",
       "       [-0.13054089,  0.03307102,  0.14260202],\n",
       "       [-0.13054089,  0.03307102,  0.14260202],\n",
       "       [-0.13054089,  0.03307102,  0.14260202],\n",
       "       [-0.13054089,  0.03307102,  0.14260202],\n",
       "       [-0.13054089,  0.03307102,  0.14260202],\n",
       "       [-0.13054089,  0.03307102,  0.14260202]])"
      ]
     },
     "execution_count": 81,
     "metadata": {},
     "output_type": "execute_result"
    }
   ],
   "source": [
    "states_loaded"
   ]
  },
  {
   "cell_type": "code",
   "execution_count": 76,
   "id": "17e49d80",
   "metadata": {},
   "outputs": [
    {
     "name": "stdout",
     "output_type": "stream",
     "text": [
      "(35, 240, 320, 3)\n",
      "(35, 4)\n"
     ]
    }
   ],
   "source": [
    "print(frames_loaded.shape)\n",
    "print(action_loaded.shape)"
   ]
  },
  {
   "cell_type": "code",
   "execution_count": 77,
   "id": "63018f1a",
   "metadata": {},
   "outputs": [
    {
     "data": {
      "text/plain": [
       "array([[-0.00001552,  0.00078083,  0.0110363 ,  1.        ],\n",
       "       [-0.00336319,  0.00413632,  0.00356209,  1.        ],\n",
       "       [-0.00025034,  0.00312657,  0.00083613,  1.        ],\n",
       "       [-0.0020789 ,  0.00330787, -0.00777393,  1.        ],\n",
       "       [-0.00271905,  0.00398424, -0.01584988,  1.        ],\n",
       "       [-0.00161003,  0.00427361, -0.01528066,  1.        ],\n",
       "       [-0.00265709,  0.00436007, -0.02983236,  1.        ],\n",
       "       [-0.00264773,  0.00441869, -0.03256488,  1.        ],\n",
       "       [-0.00653843,  0.00665574, -0.03283072,  1.        ],\n",
       "       [-0.00532164,  0.00585565, -0.03613232, -1.        ],\n",
       "       [-0.00356151, -0.0189772 ,  0.06204919, -1.        ],\n",
       "       [-0.00313536, -0.02377265,  0.05036876, -1.        ],\n",
       "       [-0.00137619, -0.02399196,  0.04055296, -1.        ],\n",
       "       [ 0.00065055, -0.02448617,  0.03411187, -1.        ],\n",
       "       [ 0.0014615 , -0.02395903,  0.01364059, -1.        ],\n",
       "       [ 0.00072102, -0.0240653 , -0.00062461, -1.        ],\n",
       "       [ 0.00197233, -0.02349014, -0.01088969, -1.        ],\n",
       "       [-0.00015727, -0.02508993, -0.02649257, -1.        ],\n",
       "       [-0.00067577, -0.02586346, -0.0397097 , -1.        ],\n",
       "       [-0.00170629, -0.0260571 , -0.04510312,  1.        ],\n",
       "       [ 0.00025684,  0.02022718,  0.06122852,  1.        ],\n",
       "       [-0.00225139,  0.02269481,  0.05355516,  1.        ],\n",
       "       [-0.00087231,  0.02366138,  0.0399951 ,  1.        ],\n",
       "       [-0.00005746,  0.02489597,  0.03257616,  1.        ],\n",
       "       [ 0.00275342,  0.02562359,  0.01822201,  1.        ],\n",
       "       [ 0.00104979,  0.02447101,  0.0004119 ,  1.        ],\n",
       "       [ 0.00063691,  0.0236981 , -0.01403165,  1.        ],\n",
       "       [ 0.00099148,  0.02436561, -0.02421826,  1.        ],\n",
       "       [ 0.00054089,  0.02392898, -0.04500202,  1.        ],\n",
       "       [ 0.        ,  0.        ,  0.        ,  1.        ],\n",
       "       [ 0.        ,  0.        ,  0.        ,  1.        ],\n",
       "       [ 0.        ,  0.        ,  0.        ,  1.        ],\n",
       "       [ 0.        ,  0.        ,  0.        ,  1.        ],\n",
       "       [ 0.        ,  0.        ,  0.        ,  1.        ],\n",
       "       [ 0.        ,  0.        ,  0.        ,  1.        ]])"
      ]
     },
     "execution_count": 77,
     "metadata": {},
     "output_type": "execute_result"
    }
   ],
   "source": [
    "action_loaded"
   ]
  },
  {
   "cell_type": "code",
   "execution_count": 79,
   "id": "102a7b9b",
   "metadata": {},
   "outputs": [
    {
     "name": "stdout",
     "output_type": "stream",
     "text": [
      "[-0.00001552  0.00078083  0.0110363   1.        ]\n",
      "[-0.00336319  0.00413632  0.00356209  1.        ]\n",
      "[-0.00025034  0.00312657  0.00083613  1.        ]\n",
      "[-0.0020789   0.00330787 -0.00777393  1.        ]\n",
      "[-0.00271905  0.00398424 -0.01584988  1.        ]\n",
      "[-0.00161003  0.00427361 -0.01528066  1.        ]\n",
      "[-0.00265709  0.00436007 -0.02983236  1.        ]\n",
      "[-0.00264773  0.00441869 -0.03256488  1.        ]\n",
      "[-0.00653843  0.00665574 -0.03283072  1.        ]\n",
      "[-0.00532164  0.00585565 -0.03613232 -1.        ]\n",
      "[-0.00356151 -0.0189772   0.06204919 -1.        ]\n",
      "[-0.00313536 -0.02377265  0.05036876 -1.        ]\n",
      "[-0.00137619 -0.02399196  0.04055296 -1.        ]\n",
      "[ 0.00065055 -0.02448617  0.03411187 -1.        ]\n",
      "[ 0.0014615  -0.02395903  0.01364059 -1.        ]\n",
      "[ 0.00072102 -0.0240653  -0.00062461 -1.        ]\n",
      "[ 0.00197233 -0.02349014 -0.01088969 -1.        ]\n",
      "[-0.00015727 -0.02508993 -0.02649257 -1.        ]\n",
      "[-0.00067577 -0.02586346 -0.0397097  -1.        ]\n",
      "[-0.00170629 -0.0260571  -0.04510312  1.        ]\n",
      "[0.00025684 0.02022718 0.06122852 1.        ]\n",
      "[-0.00225139  0.02269481  0.05355516  1.        ]\n",
      "[-0.00087231  0.02366138  0.0399951   1.        ]\n",
      "[-0.00005746  0.02489597  0.03257616  1.        ]\n",
      "[0.00275342 0.02562359 0.01822201 1.        ]\n",
      "[0.00104979 0.02447101 0.0004119  1.        ]\n",
      "[ 0.00063691  0.0236981  -0.01403165  1.        ]\n",
      "[ 0.00099148  0.02436561 -0.02421826  1.        ]\n",
      "[ 0.00054089  0.02392898 -0.04500202  1.        ]\n",
      "[0. 0. 0. 1.]\n",
      "[0. 0. 0. 1.]\n",
      "[0. 0. 0. 1.]\n",
      "[0. 0. 0. 1.]\n",
      "[0. 0. 0. 1.]\n",
      "[0. 0. 0. 1.]\n"
     ]
    }
   ],
   "source": [
    "for i in range(action_loaded.shape[0]):\n",
    "    print(action_loaded[i])\n",
    "    show(frames_loaded[i])"
   ]
  },
  {
   "cell_type": "code",
   "execution_count": null,
   "id": "0177fbae",
   "metadata": {},
   "outputs": [],
   "source": []
  },
  {
   "cell_type": "code",
   "execution_count": null,
   "id": "c1484a18",
   "metadata": {},
   "outputs": [],
   "source": []
  },
  {
   "cell_type": "code",
   "execution_count": null,
   "id": "4df10aa5",
   "metadata": {},
   "outputs": [],
   "source": []
  },
  {
   "cell_type": "code",
   "execution_count": null,
   "id": "d0dc1e4a",
   "metadata": {},
   "outputs": [],
   "source": []
  },
  {
   "cell_type": "code",
   "execution_count": null,
   "id": "21cc5022",
   "metadata": {},
   "outputs": [],
   "source": []
  },
  {
   "cell_type": "code",
   "execution_count": null,
   "id": "7425b698",
   "metadata": {},
   "outputs": [],
   "source": []
  },
  {
   "cell_type": "code",
   "execution_count": null,
   "id": "e54ad62e",
   "metadata": {},
   "outputs": [],
   "source": []
  },
  {
   "cell_type": "code",
   "execution_count": null,
   "id": "9bba0c11",
   "metadata": {},
   "outputs": [],
   "source": []
  },
  {
   "cell_type": "code",
   "execution_count": 4,
   "id": "fbe428a3",
   "metadata": {},
   "outputs": [
    {
     "data": {
      "text/plain": [
       "3096"
      ]
     },
     "execution_count": 4,
     "metadata": {},
     "output_type": "execute_result"
    }
   ],
   "source": [
    "3096"
   ]
  },
  {
   "cell_type": "code",
   "execution_count": 5,
   "id": "b45b3fe0",
   "metadata": {},
   "outputs": [
    {
     "data": {
      "text/plain": [
       "3102"
      ]
     },
     "execution_count": 5,
     "metadata": {},
     "output_type": "execute_result"
    }
   ],
   "source": [
    "3102"
   ]
  },
  {
   "cell_type": "code",
   "execution_count": null,
   "id": "59c34a3f",
   "metadata": {},
   "outputs": [],
   "source": [
    "relocate-v0: 3102\n",
    "xarm: 3072\n",
    "    "
   ]
  },
  {
   "cell_type": "code",
   "execution_count": null,
   "id": "2ac41a11",
   "metadata": {},
   "outputs": [],
   "source": []
  },
  {
   "cell_type": "code",
   "execution_count": 7,
   "id": "f02ae59c",
   "metadata": {},
   "outputs": [
    {
     "name": "stdout",
     "output_type": "stream",
     "text": [
      "0.0\n",
      "0.2\n",
      "0.4\n",
      "0.6000000000000001\n",
      "0.8\n",
      "1.0\n"
     ]
    }
   ],
   "source": [
    "t=0.2\n",
    "\n",
    "for x in np.arange(0, 1+t, t):\n",
    "    print(x)"
   ]
  },
  {
   "cell_type": "code",
   "execution_count": 9,
   "id": "aa60c6f0",
   "metadata": {},
   "outputs": [
    {
     "name": "stdout",
     "output_type": "stream",
     "text": [
      "0.0\n",
      "0.2\n",
      "0.4\n",
      "0.6000000000000001\n",
      "0.8\n"
     ]
    }
   ],
   "source": [
    "t=0.2\n",
    "\n",
    "for x in np.arange(0, 1, t):\n",
    "    print(x)"
   ]
  },
  {
   "cell_type": "code",
   "execution_count": null,
   "id": "e2b41f71",
   "metadata": {},
   "outputs": [],
   "source": []
  },
  {
   "cell_type": "code",
   "execution_count": null,
   "id": "2ee3818f",
   "metadata": {},
   "outputs": [],
   "source": []
  },
  {
   "cell_type": "code",
   "execution_count": null,
   "id": "0f93dea6",
   "metadata": {},
   "outputs": [],
   "source": []
  },
  {
   "cell_type": "code",
   "execution_count": null,
   "id": "540cd607",
   "metadata": {},
   "outputs": [],
   "source": []
  },
  {
   "cell_type": "code",
   "execution_count": null,
   "id": "5f3016a4",
   "metadata": {},
   "outputs": [],
   "source": []
  },
  {
   "cell_type": "code",
   "execution_count": null,
   "id": "f8d864ec",
   "metadata": {},
   "outputs": [],
   "source": []
  },
  {
   "cell_type": "code",
   "execution_count": 53,
   "id": "fadfc080",
   "metadata": {},
   "outputs": [
    {
     "name": "stdout",
     "output_type": "stream",
     "text": [
      "[[-0.2154, -0.0028, 0.0701], [-0.20686000000000002, 0.0054800000000000005, 0.117672], [-0.19832, 0.013760000000000001, 0.15444800000000003], [-0.18978, 0.022040000000000004, 0.18042800000000003], [-0.18124, 0.030320000000000003, 0.195612], [-0.17270000000000002, 0.0386, 0.2], [-0.16416, 0.04688000000000001, 0.19359200000000004], [-0.15562, 0.05516000000000001, 0.176388], [-0.14708, 0.06344000000000001, 0.14838800000000002], [-0.13854, 0.07172, 0.10959199999999997], [-0.13, 0.08, 0.06], [-0.13, 0.057, 0.1104], [-0.13, 0.034, 0.1496], [-0.13, 0.010999999999999996, 0.1776], [-0.13, -0.011999999999999997, 0.19440000000000002], [-0.13, -0.03499999999999999, 0.2], [-0.13, -0.05800000000000001, 0.1944], [-0.13, -0.081, 0.17759999999999998], [-0.13, -0.104, 0.1496], [-0.13, -0.127, 0.1104], [-0.13, -0.14999999999999997, 0.06], [-0.13, -0.127, 0.1104], [-0.13, -0.104, 0.1496], [-0.13, -0.08099999999999999, 0.1776], [-0.13, -0.057999999999999996, 0.19440000000000002], [-0.13, -0.035, 0.2], [-0.13, -0.01200000000000001, 0.19440000000000002], [-0.13, 0.01100000000000001, 0.17759999999999998], [-0.13, 0.034, 0.1496], [-0.13, 0.056999999999999995, 0.1104]]\n"
     ]
    }
   ],
   "source": [
    "import math\n",
    "\n",
    "class ParabolicController:\n",
    "    def __init__(self, current_location, p1, p2, h=0.2, t=0.1):\n",
    "        # 1 ღიაა\n",
    "        # -1 დახურულია\n",
    "\n",
    "        self.current_location = current_location\n",
    "        self.p1 = p1\n",
    "        self.p2 = p2\n",
    "        assert p1[-1]==p2[-1]\n",
    "        self.Z_coordinate = p1[-1]\n",
    "        self.h = h\n",
    "        self.t = t\n",
    "        self.sequence, self.gripper = self.get_sequence()\n",
    "        print(self.sequence)\n",
    "        self.chasing_idx = 0\n",
    "        self.gripper_open = 1\n",
    "\n",
    "    def get_sequence(self):\n",
    "        stop_height = 0.1\n",
    "        sequence = []\n",
    "        gripper = []\n",
    "        for x in np.arange(0, 1, self.t):\n",
    "            sequence.append(self.cl_pt(self.current_location, self.p1, x))\n",
    "            gripper.append(1)\n",
    "            if x + self.t * 1.5 >= 1:\n",
    "                break\n",
    "        \n",
    "        for x in np.arange(0, 1+self.t, self.t):\n",
    "            sequence.append(self.cl_pt(self.p1, self.p2, x))\n",
    "            if x >= 1:\n",
    "                gripper.append(1)\n",
    "            else:\n",
    "                gripper.append(-1)\n",
    "\n",
    "        root = (1 + math.sqrt(1-stop_height/self.h)) / 2\n",
    "        for x in np.arange(self.t, 1+self.t, self.t):\n",
    "            sequence.append(self.cl_pt(self.p2, self.p1, x))\n",
    "            gripper.append(1)\n",
    "            if x >= root:\n",
    "                break\n",
    "        return sequence, gripper\n",
    "    \n",
    "\n",
    "    def cl_pt(self, p1, p2, t):\n",
    "        x_t = p1[0] + (p2[0]-p1[0])*t\n",
    "        y_t = p1[1] + (p2[1]-p1[1])*t\n",
    "        # z_t = 4*self.h*t*(1-t) + self.Z_coordinate \n",
    "        z1 = p1[-1]\n",
    "        z2 = p2[-1]\n",
    "\n",
    "        z_t = (-4 * self.h + 2 * z1 + 2 * z2)*t*t + (4 * self.h - 3 * z1 - z2)*t +z1\n",
    "        return [x_t, y_t, z_t]\n",
    "\n",
    "    def act(self, current_location):\n",
    "        self.chasing_idx+=1\n",
    "        if len(self.sequence) <= self.chasing_idx:\n",
    "            return False, False\n",
    "        act = np.array(self.sequence[self.chasing_idx]) - np.array(current_location)\n",
    "        gripper = self.gripper[self.chasing_idx]\n",
    "        return (list(act), gripper)\n",
    "    \n",
    "loc = [-0.2154, -0.0028, 0.0701]\n",
    "controller = ParabolicController(loc, [-0.13, 0.08, 0.06], [-0.13, -0.15, 0.06]) \n",
    "\n",
    "\n",
    "\n"
   ]
  },
  {
   "cell_type": "code",
   "execution_count": 54,
   "id": "4944fccd",
   "metadata": {},
   "outputs": [
    {
     "data": {
      "text/plain": [
       "30"
      ]
     },
     "execution_count": 54,
     "metadata": {},
     "output_type": "execute_result"
    }
   ],
   "source": [
    "len(controller.sequence)"
   ]
  },
  {
   "cell_type": "code",
   "execution_count": 57,
   "id": "1149715a",
   "metadata": {},
   "outputs": [
    {
     "name": "stdout",
     "output_type": "stream",
     "text": [
      "[-0.13, 0.08, 0.06] 0.0\n",
      "[-0.13, 0.057, 0.1104] 0.1\n",
      "[-0.13, 0.034, 0.1496] 0.2\n",
      "[-0.13, 0.010999999999999996, 0.1776] 0.30000000000000004\n",
      "[-0.13, -0.011999999999999997, 0.19440000000000002] 0.4\n",
      "[-0.13, -0.03499999999999999, 0.2] 0.5\n",
      "[-0.13, -0.05800000000000001, 0.1944] 0.6000000000000001\n",
      "[-0.13, -0.081, 0.17759999999999998] 0.7000000000000001\n",
      "[-0.13, -0.104, 0.1496] 0.8\n",
      "[-0.13, -0.127, 0.1104] 0.9\n",
      "[-0.13, -0.14999999999999997, 0.06] 1.0\n",
      "[-1, -1, -1, -1, -1, -1, -1, -1, -1, -1, 1]\n"
     ]
    }
   ],
   "source": [
    "sequence = []\n",
    "gripper = []\n",
    "\n",
    "\n",
    "# for x in np.arange(0, 1, controller.t):\n",
    "#     sequence.append(controller.cl_pt(controller.current_location, controller.p1, x))\n",
    "#     if x + controller.t * 1.5 >= 1:\n",
    "#         break\n",
    "#     gripper.append(1)\n",
    "\n",
    "# print(sequence)\n",
    "# print(gripper)\n",
    "# print('=============')\n",
    "\n",
    "sequence = []\n",
    "for x in np.arange(0, 1+controller.t, controller.t):\n",
    "    print(controller.cl_pt(controller.p1, controller.p2, x), x)\n",
    "    sequence.append(controller.cl_pt(controller.p1, controller.p2, x))\n",
    "    if x >= 1:\n",
    "        gripper.append(1)\n",
    "    else:\n",
    "        gripper.append(-1)\n",
    "    \n",
    "    \n",
    "print(gripper)\n",
    "    "
   ]
  },
  {
   "cell_type": "code",
   "execution_count": 37,
   "id": "2ea860a6",
   "metadata": {},
   "outputs": [
    {
     "data": {
      "text/plain": [
       "[-0.13, 0.08, 0.06]"
      ]
     },
     "execution_count": 37,
     "metadata": {},
     "output_type": "execute_result"
    }
   ],
   "source": [
    "controller.p1"
   ]
  },
  {
   "cell_type": "code",
   "execution_count": 38,
   "id": "2bc5b27d",
   "metadata": {},
   "outputs": [
    {
     "data": {
      "text/plain": [
       "[-0.13, -0.15, 0.06]"
      ]
     },
     "execution_count": 38,
     "metadata": {},
     "output_type": "execute_result"
    }
   ],
   "source": [
    "controller.p2"
   ]
  },
  {
   "cell_type": "code",
   "execution_count": null,
   "id": "743735f6",
   "metadata": {},
   "outputs": [],
   "source": []
  },
  {
   "cell_type": "code",
   "execution_count": 44,
   "id": "65c58511",
   "metadata": {},
   "outputs": [
    {
     "name": "stdout",
     "output_type": "stream",
     "text": [
      "0.0\n"
     ]
    },
    {
     "data": {
      "text/plain": [
       "[-0.13, 0.08, 0.0]"
      ]
     },
     "execution_count": 44,
     "metadata": {},
     "output_type": "execute_result"
    }
   ],
   "source": [
    "def cl_pt(p1, p2, t):\n",
    "    x_t = p1[0] + (p2[0]-p1[0])*t\n",
    "    y_t = p1[1] + (p2[1]-p1[1])*t\n",
    "    z_t = 4*controller.h*t*(1-t)\n",
    "    print(z_t)\n",
    "    return [x_t, y_t, z_t]\n",
    "\n",
    "cl_pt(controller.p1, controller.p2, 0)"
   ]
  },
  {
   "cell_type": "code",
   "execution_count": null,
   "id": "149d9ef6",
   "metadata": {},
   "outputs": [],
   "source": []
  },
  {
   "cell_type": "code",
   "execution_count": null,
   "id": "3c8624d6",
   "metadata": {},
   "outputs": [],
   "source": []
  },
  {
   "cell_type": "code",
   "execution_count": null,
   "id": "dd8ed752",
   "metadata": {},
   "outputs": [],
   "source": []
  },
  {
   "cell_type": "code",
   "execution_count": 51,
   "id": "6f842c42",
   "metadata": {},
   "outputs": [
    {
     "data": {
      "text/plain": [
       "8"
      ]
     },
     "execution_count": 51,
     "metadata": {},
     "output_type": "execute_result"
    }
   ],
   "source": [
    "a = [1, 2, 3, 4, 5, 6, 7, 8]\n",
    "len(a)"
   ]
  },
  {
   "cell_type": "code",
   "execution_count": 52,
   "id": "7f141724",
   "metadata": {},
   "outputs": [
    {
     "data": {
      "text/plain": [
       "8"
      ]
     },
     "execution_count": 52,
     "metadata": {},
     "output_type": "execute_result"
    }
   ],
   "source": [
    "a[7]"
   ]
  },
  {
   "cell_type": "code",
   "execution_count": null,
   "id": "7da4f130",
   "metadata": {},
   "outputs": [],
   "source": []
  },
  {
   "cell_type": "code",
   "execution_count": null,
   "id": "f82e65c1",
   "metadata": {},
   "outputs": [],
   "source": []
  },
  {
   "cell_type": "code",
   "execution_count": null,
   "id": "e55a71c2",
   "metadata": {},
   "outputs": [],
   "source": []
  },
  {
   "cell_type": "code",
   "execution_count": null,
   "id": "209480bd",
   "metadata": {},
   "outputs": [],
   "source": []
  },
  {
   "cell_type": "code",
   "execution_count": null,
   "id": "d1250496",
   "metadata": {},
   "outputs": [],
   "source": []
  },
  {
   "cell_type": "code",
   "execution_count": 49,
   "id": "b26dde9f",
   "metadata": {},
   "outputs": [
    {
     "data": {
      "image/png": "[encoded data removed]",
      "text/plain": [
       "<Figure size 640x480 with 1 Axes>"
      ]
     },
     "metadata": {},
     "output_type": "display_data"
    }
   ],
   "source": [
    "import matplotlib.pyplot as plt\n",
    "from mpl_toolkits.mplot3d import Axes3D\n",
    "\n",
    "fig = plt.figure()\n",
    "ax = fig.add_subplot(111, projection='3d')\n",
    "\n",
    "for point in controller.sequence:\n",
    "    ax.scatter(point[0], point[1], point[2])\n",
    "\n",
    "ax.set_xlabel('X Label')\n",
    "ax.set_ylabel('Y Label')\n",
    "ax.set_zlabel('Z Label')\n",
    "\n",
    "plt.show()\n"
   ]
  },
  {
   "cell_type": "code",
   "execution_count": null,
   "id": "94688641",
   "metadata": {},
   "outputs": [],
   "source": []
  }
 ],
 "metadata": {
  "kernelspec": {
   "display_name": "tacorl_venv",
   "language": "python",
   "name": "tacorl_venv"
  },
  "language_info": {
   "codemirror_mode": {
    "name": "ipython",
    "version": 3
   },
   "file_extension": ".py",
   "mimetype": "text/x-python",
   "name": "python",
   "nbconvert_exporter": "python",
   "pygments_lexer": "ipython3",
   "version": "3.7.16"
  }
 },
 "nbformat": 4,
 "nbformat_minor": 5
}
